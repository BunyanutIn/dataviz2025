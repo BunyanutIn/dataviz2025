{
  "nbformat": 4,
  "nbformat_minor": 0,
  "metadata": {
    "colab": {
      "provenance": [],
      "authorship_tag": "ABX9TyNJBP0FOjDnfvA1vwgZmy3h",
      "include_colab_link": true
    },
    "kernelspec": {
      "name": "python3",
      "display_name": "Python 3"
    },
    "language_info": {
      "name": "python"
    }
  },
  "cells": [
    {
      "cell_type": "markdown",
      "metadata": {
        "id": "view-in-github",
        "colab_type": "text"
      },
      "source": [
        "<a href=\"https://colab.research.google.com/github/BunyanutIn/dataviz2025/blob/main/my_first_python_code.ipynb\" target=\"_parent\"><img src=\"https://colab.research.google.com/assets/colab-badge.svg\" alt=\"Open In Colab\"/></a>"
      ]
    },
    {
      "cell_type": "markdown",
      "source": [
        "Here we can write using **Markdown**\n",
        "# intro"
      ],
      "metadata": {
        "id": "rgew4BTIHvRP"
      }
    },
    {
      "cell_type": "markdown",
      "source": [
        "# name"
      ],
      "metadata": {
        "id": "47GkoJAaIkz1"
      }
    },
    {
      "cell_type": "code",
      "source": [
        "print(\"Bunyanut\")"
      ],
      "metadata": {
        "colab": {
          "base_uri": "https://localhost:8080/"
        },
        "id": "pBIqYz1aIzIB",
        "outputId": "eaca49bc-2653-4f63-8f10-5ece03afb677"
      },
      "execution_count": 1,
      "outputs": [
        {
          "output_type": "stream",
          "name": "stdout",
          "text": [
            "Bunyanut\n"
          ]
        }
      ]
    },
    {
      "cell_type": "markdown",
      "source": [
        "# surname"
      ],
      "metadata": {
        "id": "HOItSk18Ikbt"
      }
    },
    {
      "cell_type": "code",
      "execution_count": 3,
      "metadata": {
        "colab": {
          "base_uri": "https://localhost:8080/"
        },
        "id": "7H03zE_VGJs9",
        "outputId": "07b5f760-3289-45b7-d3d7-773fa5a35fdd"
      },
      "outputs": [
        {
          "output_type": "stream",
          "name": "stdout",
          "text": [
            "Inthawong\n"
          ]
        }
      ],
      "source": [
        "print('Inthawong')"
      ]
    },
    {
      "cell_type": "code",
      "source": [],
      "metadata": {
        "id": "Df6TY0LwJOGA"
      },
      "execution_count": null,
      "outputs": []
    }
  ]
}