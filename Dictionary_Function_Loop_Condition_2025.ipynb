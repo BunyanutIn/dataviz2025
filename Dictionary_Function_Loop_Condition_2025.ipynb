{
  "nbformat": 4,
  "nbformat_minor": 0,
  "metadata": {
    "kernelspec": {
      "display_name": "Python 3",
      "language": "python",
      "name": "python3"
    },
    "language_info": {
      "codemirror_mode": {
        "name": "ipython",
        "version": 3
      },
      "file_extension": ".py",
      "mimetype": "text/x-python",
      "name": "python",
      "nbconvert_exporter": "python",
      "pygments_lexer": "ipython3",
      "version": "3.7.4"
    },
    "colab": {
      "provenance": [],
      "include_colab_link": true
    }
  },
  "cells": [
    {
      "cell_type": "markdown",
      "metadata": {
        "id": "view-in-github",
        "colab_type": "text"
      },
      "source": [
        "<a href=\"https://colab.research.google.com/github/BunyanutIn/dataviz2025/blob/main/Dictionary_Function_Loop_Condition_2025.ipynb\" target=\"_parent\"><img src=\"https://colab.research.google.com/assets/colab-badge.svg\" alt=\"Open In Colab\"/></a>"
      ]
    },
    {
      "cell_type": "markdown",
      "source": [
        "HW1 note"
      ],
      "metadata": {
        "id": "2wnVRxt7Qw8x"
      }
    },
    {
      "cell_type": "code",
      "source": [
        "inp = '12:30:15-13:41:07'\n",
        "inp_list = inp.split('-')\n",
        "inp_list"
      ],
      "metadata": {
        "colab": {
          "base_uri": "https://localhost:8080/"
        },
        "id": "7b9PZ1gTQ0EA",
        "outputId": "218f60b0-2953-4ee8-9ca7-dd709838cabd"
      },
      "execution_count": null,
      "outputs": [
        {
          "output_type": "execute_result",
          "data": {
            "text/plain": [
              "['12:30:15', '13:41:07']"
            ]
          },
          "metadata": {},
          "execution_count": 1
        }
      ]
    },
    {
      "cell_type": "code",
      "source": [
        "dict_a = {'abc' : 123, 'def' : 456, 'ghi' : 789}"
      ],
      "metadata": {
        "id": "RhOr2rgYSSLg"
      },
      "execution_count": null,
      "outputs": []
    },
    {
      "cell_type": "code",
      "source": [
        "dict_a"
      ],
      "metadata": {
        "colab": {
          "base_uri": "https://localhost:8080/"
        },
        "id": "5mVTRDVpSsqg",
        "outputId": "2938d68d-d900-4ae8-f213-eb78fac33264"
      },
      "execution_count": null,
      "outputs": [
        {
          "output_type": "execute_result",
          "data": {
            "text/plain": [
              "{'abc': 123, 'def': 456, 'ghi': 789}"
            ]
          },
          "metadata": {},
          "execution_count": 4
        }
      ]
    },
    {
      "cell_type": "code",
      "source": [
        "dict_a['def']"
      ],
      "metadata": {
        "colab": {
          "base_uri": "https://localhost:8080/"
        },
        "id": "oi_lh7_MS9MI",
        "outputId": "475e9bd4-ed69-4f2a-ccbd-910f33dc6f79"
      },
      "execution_count": null,
      "outputs": [
        {
          "output_type": "execute_result",
          "data": {
            "text/plain": [
              "456"
            ]
          },
          "metadata": {},
          "execution_count": 5
        }
      ]
    },
    {
      "cell_type": "code",
      "source": [
        "dict_b = {}"
      ],
      "metadata": {
        "id": "ntk2JV_ATXzJ"
      },
      "execution_count": null,
      "outputs": []
    },
    {
      "cell_type": "code",
      "source": [
        "dict_b ['a'] = 123"
      ],
      "metadata": {
        "id": "2Bag9gTWTeW6"
      },
      "execution_count": null,
      "outputs": []
    },
    {
      "cell_type": "code",
      "source": [
        "dict_b"
      ],
      "metadata": {
        "colab": {
          "base_uri": "https://localhost:8080/"
        },
        "id": "Ijiy-iWOTkd2",
        "outputId": "1f189dbc-b250-4320-a24f-31b915fc4e14"
      },
      "execution_count": null,
      "outputs": [
        {
          "output_type": "execute_result",
          "data": {
            "text/plain": [
              "{'a': 123}"
            ]
          },
          "metadata": {},
          "execution_count": 9
        }
      ]
    },
    {
      "cell_type": "code",
      "source": [
        "#แอดทับ จะทำให้ค่าเก่าหายไป\n",
        "dict_b ['a'] = 567"
      ],
      "metadata": {
        "id": "FFjbfzdTTuHJ"
      },
      "execution_count": null,
      "outputs": []
    },
    {
      "cell_type": "code",
      "source": [
        "dict_b"
      ],
      "metadata": {
        "colab": {
          "base_uri": "https://localhost:8080/"
        },
        "id": "_foxeSOYUEd5",
        "outputId": "c5083a30-8576-421d-bf15-cabb3eb65160"
      },
      "execution_count": null,
      "outputs": [
        {
          "output_type": "execute_result",
          "data": {
            "text/plain": [
              "{'a': 567}"
            ]
          },
          "metadata": {},
          "execution_count": 11
        }
      ]
    },
    {
      "cell_type": "markdown",
      "source": [
        "# การ add สมาชิกเข้าไปใน dict"
      ],
      "metadata": {
        "id": "YLu7v2HzUI9y"
      }
    },
    {
      "cell_type": "code",
      "source": [
        "if 'b' not in dict_b:\n",
        "    dict_b['b'] = 123"
      ],
      "metadata": {
        "id": "gwzuDvfSUSlD"
      },
      "execution_count": null,
      "outputs": []
    },
    {
      "cell_type": "code",
      "source": [
        "dict_b"
      ],
      "metadata": {
        "colab": {
          "base_uri": "https://localhost:8080/"
        },
        "id": "Sq6mObGUUa0q",
        "outputId": "99ae2c68-e20a-434d-be65-357751641b88"
      },
      "execution_count": null,
      "outputs": [
        {
          "output_type": "execute_result",
          "data": {
            "text/plain": [
              "{'a': 567, 'b': 123}"
            ]
          },
          "metadata": {},
          "execution_count": 13
        }
      ]
    },
    {
      "cell_type": "markdown",
      "metadata": {
        "id": "-57L9aVubPqU"
      },
      "source": [
        "# Function"
      ]
    },
    {
      "cell_type": "markdown",
      "metadata": {
        "id": "1DNzYhO4bPqb"
      },
      "source": [
        "## Function template\n",
        "#### ทำหน้าที่รับ input มาประมวณผลออกมาเป็น output\n",
        "#### f(x) = y"
      ]
    },
    {
      "cell_type": "markdown",
      "metadata": {
        "id": "3Nv1ZDEKbPqc"
      },
      "source": [
        "### def คือการกำหนดฟังก์ชัน"
      ]
    },
    {
      "cell_type": "markdown",
      "metadata": {
        "id": "DbHDoWEabPqc"
      },
      "source": [
        "```python\n",
        "    def function_name(_Input_) :\n",
        "        do_something with _Input_ to get _Output_\n",
        "        return _Output_\n",
        "```"
      ]
    },
    {
      "cell_type": "markdown",
      "metadata": {
        "id": "1fuimreqpVhU"
      },
      "source": [
        "เราใช้ เว้นวรรค (indent) เพื่อบอกขอบเขตของโปรแกรม"
      ]
    },
    {
      "cell_type": "markdown",
      "metadata": {
        "id": "kh2M1smCl5Iv"
      },
      "source": [
        "function มีส่วนสำคัญทั้งหมด 4 ส่วน\n",
        "\n",
        "1.   บอก python ว่าเราจะเขียนฟังก์ชั่น ชื่ออะไร  ```def function_name():``` (ขาดไม่ได้)\n",
        "2.   กำหนดตัวแปรที่จะเป็น input  ```_Input_``` (ขาดได้)\n",
        "3.   ส่วนประมวลผล ```do_something with _Input_ to get _Output_``` (ขาดไม่ได้)\n",
        "4.   ส่วน output ```return _Output_```(ขาดได้)\n",
        "\n"
      ]
    },
    {
      "cell_type": "markdown",
      "metadata": {
        "id": "lqWzVN5AbPqc"
      },
      "source": [
        "#### ตัวอย่างการเขียน normal function\n"
      ]
    },
    {
      "cell_type": "code",
      "source": [
        "def print_myname():   # ตัวอย่าง function ที่ไม่มีทั้ง input และ output\n",
        "    print('Bunyanut')"
      ],
      "metadata": {
        "id": "6wzfVo_pTefO"
      },
      "execution_count": null,
      "outputs": []
    },
    {
      "cell_type": "code",
      "source": [
        "print_myname()"
      ],
      "metadata": {
        "colab": {
          "base_uri": "https://localhost:8080/"
        },
        "id": "482E9UnsUMkC",
        "outputId": "27a0ef8a-4296-49b5-b2fb-6d47408e12bd"
      },
      "execution_count": null,
      "outputs": [
        {
          "output_type": "stream",
          "name": "stdout",
          "text": [
            "Bunyanut\n"
          ]
        }
      ]
    },
    {
      "cell_type": "code",
      "source": [
        "print_name('stat')"
      ],
      "metadata": {
        "id": "6fCkilGOXZ6f"
      },
      "execution_count": null,
      "outputs": []
    },
    {
      "cell_type": "code",
      "source": [
        "a = print_name('stat')"
      ],
      "metadata": {
        "id": "YAShk-6CXRau"
      },
      "execution_count": null,
      "outputs": []
    },
    {
      "cell_type": "code",
      "source": [
        "a"
      ],
      "metadata": {
        "id": "A0VuzWcBX7in"
      },
      "execution_count": null,
      "outputs": []
    },
    {
      "cell_type": "code",
      "metadata": {
        "id": "n706WULobPqc"
      },
      "source": [
        "def print_fullname(name,surname,ID):        # ตัวอย่าง function ที่ มี input หลายตัว กับ output 1 ตัว\n",
        "    st = f'ชื่อ {name} นามสกุล {surname} รหัส {ID}'\n",
        "    return st"
      ],
      "execution_count": null,
      "outputs": []
    },
    {
      "cell_type": "code",
      "metadata": {
        "colab": {
          "base_uri": "https://localhost:8080/",
          "height": 34
        },
        "id": "muh0pi_Gkym8",
        "outputId": "08d60d3f-06dd-4a64-f953-e40cb515b14c"
      },
      "source": [
        "print_fullname('บุณยนุช','อินทวงษ์' ,'663020582-2')"
      ],
      "execution_count": null,
      "outputs": [
        {
          "output_type": "execute_result",
          "data": {
            "text/plain": [
              "'ชื่อ บุณยนุช นามสกุล อินทวงษ์ รหัส 663020582-2'"
            ],
            "application/vnd.google.colaboratory.intrinsic+json": {
              "type": "string"
            }
          },
          "metadata": {},
          "execution_count": 35
        }
      ]
    },
    {
      "cell_type": "code",
      "source": [
        "print_fullname(name='กาญจนา',surname='ประสาคุณ',ID='603021855-2')"
      ],
      "metadata": {
        "colab": {
          "base_uri": "https://localhost:8080/",
          "height": 34
        },
        "id": "vxooaHuHVTDJ",
        "outputId": "a644f323-81d4-4ccc-d5db-df7863eb57dc"
      },
      "execution_count": null,
      "outputs": [
        {
          "output_type": "execute_result",
          "data": {
            "text/plain": [
              "'ชื่อ กาญจนา นามสกุล ประสาคุณ รหัส 603021855-2'"
            ],
            "application/vnd.google.colaboratory.intrinsic+json": {
              "type": "string"
            }
          },
          "metadata": {},
          "execution_count": 25
        }
      ]
    },
    {
      "cell_type": "markdown",
      "metadata": {
        "id": "tSV-FUQBpx0i"
      },
      "source": [
        "ฟังก์ชั่นไม่จำเป็นต้องมี output"
      ]
    },
    {
      "cell_type": "code",
      "metadata": {
        "id": "loNAFSvLo5dC"
      },
      "source": [
        "def print_name2(surname,ID,name):\n",
        "    st = f'ชื่อ {name} นามสกุล {surname} รหัส {ID}'\n",
        "    print(st)"
      ],
      "execution_count": null,
      "outputs": []
    },
    {
      "cell_type": "code",
      "metadata": {
        "colab": {
          "base_uri": "https://localhost:8080/"
        },
        "id": "JE88oCj8o_j_",
        "outputId": "f9883568-0a8b-4e24-ca1f-ca05e508aeb2"
      },
      "source": [
        "print_name2(name='กาญจนา',surname='ประสาคุณ',ID='603021855-2')"
      ],
      "execution_count": null,
      "outputs": [
        {
          "output_type": "stream",
          "name": "stdout",
          "text": [
            "ชื่อ กาญจนา นามสกุล ประสาคุณ รหัส 603021855-2\n"
          ]
        }
      ]
    },
    {
      "cell_type": "markdown",
      "source": [
        "### ข้อแตกต่างระหว่าง function ที่มีและไม่มี output"
      ],
      "metadata": {
        "id": "dW328wxLWauv"
      }
    },
    {
      "cell_type": "code",
      "source": [
        "out_printname1 = print_name(name='Bunyanut',surname='Inthawong',ID='663020582-2') # มี output\n",
        "print(out_printname1)"
      ],
      "metadata": {
        "colab": {
          "base_uri": "https://localhost:8080/"
        },
        "id": "Ae6C6-DTWFOD",
        "outputId": "d1954c75-b10b-4e90-bef3-563334ad23d1"
      },
      "execution_count": null,
      "outputs": [
        {
          "output_type": "stream",
          "name": "stdout",
          "text": [
            "ชื่อ Bunyanut นามสกุล Inthawong รหัส 663020582-2\n"
          ]
        }
      ]
    },
    {
      "cell_type": "code",
      "source": [
        "out_printname1"
      ],
      "metadata": {
        "colab": {
          "base_uri": "https://localhost:8080/",
          "height": 34
        },
        "id": "yPtH94N0WtsE",
        "outputId": "39477628-e774-4d7b-f5d9-343cb2d5c85d"
      },
      "execution_count": null,
      "outputs": [
        {
          "output_type": "execute_result",
          "data": {
            "text/plain": [
              "'ชื่อ Bunyanut นามสกุล Inthawong รหัส 663020582-2'"
            ],
            "application/vnd.google.colaboratory.intrinsic+json": {
              "type": "string"
            }
          },
          "metadata": {},
          "execution_count": 40
        }
      ]
    },
    {
      "cell_type": "code",
      "source": [
        "out_printname2 = print_name2(name='กาญจนา',surname='ประสาคุณ',ID='603021855-2')  # ไม่มี output\n",
        "print(out_printname2)"
      ],
      "metadata": {
        "colab": {
          "base_uri": "https://localhost:8080/"
        },
        "id": "AbT5pKVYWRBn",
        "outputId": "b2c66a5f-52cd-4f64-eaa2-06d62969aff1"
      },
      "execution_count": null,
      "outputs": [
        {
          "output_type": "stream",
          "name": "stdout",
          "text": [
            "ชื่อ กาญจนา นามสกุล ประสาคุณ รหัส 603021855-2\n",
            "None\n"
          ]
        }
      ]
    },
    {
      "cell_type": "code",
      "source": [
        "out_printname2"
      ],
      "metadata": {
        "id": "l_fW68dyXDw3"
      },
      "execution_count": null,
      "outputs": []
    },
    {
      "cell_type": "markdown",
      "metadata": {
        "id": "JF4RdyEBqPyl"
      },
      "source": [
        "ฟังก์ชั่นไม่จำเป็นต้องมี input"
      ]
    },
    {
      "cell_type": "code",
      "metadata": {
        "id": "LNb_o_ZXo_gh"
      },
      "source": [
        "def Pi():\n",
        "    return 3.14159265359"
      ],
      "execution_count": null,
      "outputs": []
    },
    {
      "cell_type": "code",
      "metadata": {
        "colab": {
          "base_uri": "https://localhost:8080/"
        },
        "id": "htN6zLbFo_dr",
        "outputId": "4e015946-8d9d-4f9b-8b59-dc5ff0c325f8"
      },
      "source": [
        "Pi()*(2**2) # หาพื้นที่ของวงกลมที่มีรัศมีเท่ากับ Pi * r^2"
      ],
      "execution_count": null,
      "outputs": [
        {
          "output_type": "execute_result",
          "data": {
            "text/plain": [
              "12.56637061436"
            ]
          },
          "metadata": {
            "tags": []
          },
          "execution_count": 16
        }
      ]
    },
    {
      "cell_type": "markdown",
      "metadata": {
        "id": "ywc0Ho-_rUTu"
      },
      "source": [
        "## เราสามารถกำหนดค่า default ให้กับ input ของฟังก์ชั่นได้"
      ]
    },
    {
      "cell_type": "markdown",
      "metadata": {
        "id": "y_74dHkjxS7f"
      },
      "source": [
        "input ของ function ใน python มีสองแบบ input ที่จำเป็นต้องใส่ กับ input ที่ไม่จำเป็นต้องใส่ (มีค่า default)\n",
        "\n",
        "เราต้องเรียง input ที่จำเป็นต้องใส่ขึ้นก่อน"
      ]
    },
    {
      "cell_type": "code",
      "metadata": {
        "id": "0Lrh-6mAo_bA"
      },
      "source": [
        "def print_2lines_default(name,surname,ID,grade='F'):\n",
        "    st = f'ชื่อ {name} นามสกุล {surname} รหัส {ID}'\n",
        "    print (st)\n",
        "    st2=f'เกรดวิชา Data Viz >>> {grade}'\n",
        "    print(st2)"
      ],
      "execution_count": null,
      "outputs": []
    },
    {
      "cell_type": "code",
      "metadata": {
        "colab": {
          "base_uri": "https://localhost:8080/"
        },
        "id": "ZH31VIjko_WP",
        "outputId": "00fc1445-9d98-4020-f653-232d71ed04c8"
      },
      "source": [
        "print_2lines_default('ธันยาการต์','พวงมาลัย','613020551-8') #ไม่ได้เซ็ตค่า grad ให้จะใช้ค่า default (=F)"
      ],
      "execution_count": null,
      "outputs": [
        {
          "output_type": "stream",
          "name": "stdout",
          "text": [
            "ชื่อ ธันยาการต์ นามสกุล พวงมาลัย รหัส 613020551-8\n",
            "เกรดวิชา Data Viz >>> F\n"
          ]
        }
      ]
    },
    {
      "cell_type": "code",
      "metadata": {
        "colab": {
          "base_uri": "https://localhost:8080/"
        },
        "id": "FKGr2Iyuo_S2",
        "outputId": "d115606e-1765-4941-9311-387643f7d663"
      },
      "source": [
        "print_2lines_default('ธันยาการต์','พวงมาลัย','613020551-8','A') #setค่า defaultให้ grad = A"
      ],
      "execution_count": null,
      "outputs": [
        {
          "output_type": "stream",
          "name": "stdout",
          "text": [
            "ชื่อ ธันยาการต์ นามสกุล พวงมาลัย รหัส 613020551-8\n",
            "เกรดวิชา Data Viz >>> A\n"
          ]
        }
      ]
    },
    {
      "cell_type": "code",
      "source": [
        "print_2lines_default('ธันยาการต์','พวงมาลัย','613020551-8',grade = 'A') #setค่า defaultให้ grad = A"
      ],
      "metadata": {
        "colab": {
          "base_uri": "https://localhost:8080/"
        },
        "id": "Au_P2Cm8ZDXL",
        "outputId": "e85d5d85-927e-41e9-d82a-cbcd9fa4ab0b"
      },
      "execution_count": null,
      "outputs": [
        {
          "output_type": "stream",
          "name": "stdout",
          "text": [
            "ชื่อ ธันยาการต์ นามสกุล พวงมาลัย รหัส 613020551-8\n",
            "เกรดวิชา Data Viz >>> A\n"
          ]
        }
      ]
    },
    {
      "cell_type": "code",
      "source": [
        "print_2lines_default('ธันยาการต์','พวงมาลัย')"
      ],
      "metadata": {
        "id": "cLGa_pO1Zv1U"
      },
      "execution_count": null,
      "outputs": []
    },
    {
      "cell_type": "markdown",
      "source": [
        "# Quiz 5\n",
        "เขียนฟังก์ชัน ของ H2\n",
        "commit \"Quiz5\"\n",
        "\n",
        "HW2 คำนวณช่วงเวลาเป็นวินาทีของช่วงเวลาต่อไปนี้โดยใช้คำสั่ง split() ช่วย\n",
        "\n",
        "12:30:15, wednesday - 13:41:07 Thursday\n",
        "\n",
        "12:53:15, Monday - 00:59:25, Tuesday\n",
        "\n",
        "16:06:09, Sunday - 11:11:11, Tuesday"
      ],
      "metadata": {
        "id": "vtwNsd8Ea4_k"
      }
    },
    {
      "cell_type": "code",
      "source": [
        "# promt: เขียนฟังก์ชัน 12:30:15, wednesday - 13:41:07 Thursday 12:53:15, Monday - 00:59:25, Tuesday 16:06:09, Sunday - 11:11:11, Tuesday\n",
        "\n",
        "def calculate_seconds(time_str):\n",
        "  \"\"\"Calculates the total seconds from the beginning of the week.\"\"\"\n",
        "\n",
        "  h, m, s = map(int, time_str.split(':'))\n",
        "  # There was an error here, assuming days_map is defined elsewhere or intended to be used differently.\n",
        "  # For now, removing the days_map reference to fix the syntax error.\n",
        "  total_seconds = h * 3600 + m * 60 + s\n",
        "  return total_seconds\n",
        "\n",
        "time_periods = [\n",
        "    (\"12:30:15\", \"Wednesday\", \"13:41:07\", \"Thursday\"),\n",
        "    (\"12:53:15\", \"Monday\", \"00:59:25\", \"Tuesday\"),\n",
        "    (\"16:06:09\", \"Sunday\", \"11:11:11\", \"Tuesday\")\n",
        "]\n",
        "\n",
        "for start_time, start_day, end_time, end_day in time_periods:\n",
        "  # The calculate_seconds function now only takes time_str as input.\n",
        "  start_seconds = calculate_seconds(start_time)\n",
        "  end_seconds = calculate_seconds(end_time)\n",
        "\n",
        "  # This logic for handling day differences seems incomplete based on the function signature.\n",
        "  # Keeping the original logic for time difference within a day for now to fix the syntax error.\n",
        "  if end_seconds < start_seconds:\n",
        "      seconds_difference = (end_seconds + 24 * 3600) - start_seconds # Assuming next day\n",
        "  else:\n",
        "      seconds_difference = end_seconds - start_seconds\n",
        "\n",
        "  print(f\"ช่วงเวลารวม: {seconds_difference:,} วินาที \\n\")"
      ],
      "metadata": {
        "colab": {
          "base_uri": "https://localhost:8080/"
        },
        "id": "hqGu0d0RcZgG",
        "outputId": "5d0015a7-9400-4866-f235-d18c2d22310a"
      },
      "execution_count": null,
      "outputs": [
        {
          "output_type": "stream",
          "name": "stdout",
          "text": [
            "ช่วงเวลารวม: 4,252 วินาที \n",
            "\n",
            "ช่วงเวลารวม: 43,570 วินาที \n",
            "\n",
            "ช่วงเวลารวม: 68,702 วินาที \n",
            "\n"
          ]
        }
      ]
    },
    {
      "cell_type": "markdown",
      "source": [
        "# Quiz 6\n",
        "เขียนฟังก์ชั่น ของ HW2 มีการใช้ค่า default ของ onput โดยถ้าวันที่กรอกเป็นวันเดียวกันให้ไม่ต้องกรอกเลยหรือกรอกวันแค่ 1 วัน\n",
        "\n",
        "(H2 คำนวณช่วงเวลาเป็นวินาทีของช่วงเวลาต่อไปนี้โดยใช้คำสั่ง split() ช่วย\n",
        "\n",
        "12:30:15, wednesday - 13:41:07 Thursday\n",
        "\n",
        "12:53:15, Monday - 00:59:25, Tuesday\n",
        "\n",
        "16:06:09, Sunday - 11:11:11, Tuesday)"
      ],
      "metadata": {
        "id": "V74FexNrgAGf"
      }
    },
    {
      "cell_type": "code",
      "source": [
        "#promt: เขียนฟังก์ชั่น ของคำนวณช่วงเวลาเป็นวินาทีของช่วงเวลามีการใช้ค่า default ของ onput โดยถ้าวันที่กรอกเป็นวันเดียวกันให้ไม่ต้องกรอกเลยหรือกรอกวันแค่ 1 วัน โดยไม่ต้องมีการimtorp function\n",
        "\n",
        "def time_diff_in_seconds(start_time, end_time, start_day=None, end_day=None):\n",
        "    # กำหนดชื่อวันในสัปดาห์และจำนวนวินาทีต่อวัน\n",
        "    weekdays = ['Monday', 'Tuesday', 'Wednesday', 'Thursday', 'Friday', 'Saturday', 'Sunday']\n",
        "    seconds_per_day = 86400\n",
        "\n",
        "    # แยกเวลาชั่วโมง นาที วินาที\n",
        "    def parse_time(time_str):\n",
        "        h, m, s = map(int, time_str.strip().split(':'))\n",
        "        return h * 3600 + m * 60 + s\n",
        "\n",
        "    # หาวัน index\n",
        "    def get_day_index(day_name):\n",
        "        return weekdays.index(day_name.capitalize())\n",
        "\n",
        "    # กรณีไม่ระบุวัน ให้ถือว่าเป็นวันเดียวกัน\n",
        "    if start_day is None:\n",
        "        start_day = weekdays[0]\n",
        "    if end_day is None:\n",
        "        end_day = start_day\n",
        "\n",
        "    start_seconds = parse_time(start_time)\n",
        "    end_seconds = parse_time(end_time)\n",
        "    start_day_index = get_day_index(start_day)\n",
        "    end_day_index = get_day_index(end_day)\n",
        "\n",
        "    # คำนวณจำนวนวันห่าง\n",
        "    day_diff = (end_day_index - start_day_index) % 7\n",
        "\n",
        "    # วินาทีรวม = จำนวนวันที่ห่าง * วินาทีต่อวัน + เวลาห่าง\n",
        "    total_seconds = day_diff * seconds_per_day + (end_seconds - start_seconds)\n",
        "    return total_seconds\n"
      ],
      "metadata": {
        "id": "j0haRhIZhA7F"
      },
      "execution_count": null,
      "outputs": []
    },
    {
      "cell_type": "code",
      "source": [
        "print(time_diff_in_seconds('12:30:15', '13:41:07', 'Wednesday', 'Thursday'))  # ข้ามวัน\n",
        "print(time_diff_in_seconds('12:30:15', '13:41:07', 'Wednesday'))             # วันเดียวกัน\n",
        "print(time_diff_in_seconds('12:30:15', '13:41:07'))                          # วันเดียวกัน (ไม่ใส่วัน)\n",
        "print(time_diff_in_seconds('16:06:09', '11:11:11', 'Sunday', 'Tuesday'))"
      ],
      "metadata": {
        "id": "Olxr-Ht6hGSm",
        "outputId": "cdee14aa-3d7b-41de-97fa-f5905ba8e96a",
        "colab": {
          "base_uri": "https://localhost:8080/"
        }
      },
      "execution_count": null,
      "outputs": [
        {
          "output_type": "stream",
          "name": "stdout",
          "text": [
            "90652\n",
            "4252\n",
            "4252\n",
            "155102\n"
          ]
        }
      ]
    },
    {
      "cell_type": "markdown",
      "source": [
        "# ตัวอย่าง Quiz 6"
      ],
      "metadata": {
        "id": "2MsLGf0MQUG9"
      }
    },
    {
      "cell_type": "code",
      "source": [
        "# prompt: สร้าง function คำนวณ จำนวน วินาที ที่แตกต่างระหว่าง input hh:mm:ss, day of the week 2 ค่า\n",
        "\n",
        "def time_diff_in_seconds(start_time, end_time, start_day=None, end_day=None):\n",
        "    # กำหนดชื่อวันในสัปดาห์และจำนวนวินาทีต่อวัน\n",
        "    weekdays = ['Monday', 'Tuesday', 'Wednesday', 'Thursday', 'Friday', 'Saturday', 'Sunday']\n",
        "    seconds_per_day = 86400\n",
        "\n",
        "    # แยกเวลาชั่วโมง นาที วินาที\n",
        "    def parse_time(time_str):\n",
        "        h, m, s = map(int, time_str.strip().split(':'))\n",
        "        return h * 3600 + m * 60 + s\n",
        "\n",
        "    # หาวัน index\n",
        "    def get_day_index(day_name):\n",
        "        return weekdays.index(day_name.capitalize())\n",
        "\n",
        "    # กรณีไม่ระบุวัน ให้ถือว่าเป็นวันเดียวกัน\n",
        "    if start_day is None:\n",
        "        start_day = weekdays[0] # กำหนดค่าเริ่มต้นเป็นวันจันทร์ ถ้าไม่ได้ระบุ\n",
        "    if end_day is None:\n",
        "        end_day = start_day\n",
        "\n",
        "    start_seconds = parse_time(start_time)\n",
        "    end_seconds = parse_time(end_time)\n",
        "    start_day_index = get_day_index(start_day)\n",
        "    end_day_index = get_day_index(end_day)\n",
        "\n",
        "    # คำนวณจำนวนวันห่าง\n",
        "    # ถ้า end_day น้อยกว่า start_day index แสดงว่าข้ามสัปดาห์\n",
        "    if end_day_index < start_day_index:\n",
        "        day_diff = (end_day_index + 7) - start_day_index\n",
        "    else:\n",
        "        day_diff = end_day_index - start_day_index\n",
        "\n",
        "    # วินาทีรวม = จำนวนวันที่ห่าง * วินาทีต่อวัน + เวลาห่าง (ในวันเดียวกัน)\n",
        "    total_seconds = day_diff * seconds_per_day + (end_seconds - start_seconds)\n",
        "\n",
        "    # ปรับกรณีที่เวลาสิ้นสุดน้อยกว่าเวลาเริ่มต้นในวันเดียวกัน\n",
        "    if day_diff == 0 and end_seconds < start_seconds:\n",
        "      total_seconds += seconds_per_day # เพิ่ม 1 วันถ้าเวลาสิ้นสุดน้อยกว่าเวลาเริ่มต้น\n",
        "\n",
        "    return total_seconds\n",
        "\n",
        "print(f\"12:30:15 Wednesday - 13:41:07 Thursday: {time_diff_in_seconds('12:30:15', '13:41:07', 'Wednesday', 'Thursday')} วินาที\")\n",
        "print(f\"12:53:15 Monday - 00:59:25 Tuesday: {time_diff_in_seconds('12:53:15', '00:59:25', 'Monday', 'Tuesday')} วินาที\")\n",
        "print(f\"16:06:09 Sunday - 11:11:11 Tuesday: {time_diff_in_seconds('16:06:09', '11:11:11', 'Sunday', 'Tuesday')} วินาที\")\n",
        "print(f\"12:30:15 Wednesday - 13:41:07 Wednesday: {time_diff_in_seconds('12:30:15', '13:41:07', 'Wednesday')} วินาที\")\n",
        "print(f\"12:30:15 - 13:41:07: {time_diff_in_seconds('12:30:15', '13:41:07')} วินาที\")\n",
        "print(f\"23:00:00 Monday - 01:00:00 Tuesday: {time_diff_in_seconds('23:00:00', '01:00:00', 'Monday', 'Tuesday')} วินาที\")\n",
        "print(f\"23:00:00 Monday - 01:00:00 Monday: {time_diff_in_seconds('23:00:00', '01:00:00', 'Monday')} วินาที\")\n",
        "\n"
      ],
      "metadata": {
        "id": "khaTF5ZMQwt-"
      },
      "execution_count": null,
      "outputs": []
    },
    {
      "cell_type": "markdown",
      "source": [
        "# Quiz3\n",
        "เขียน function ที่รับ input 1 ตัว ตาม format hh1:mm1:ss1 - hh2:mm2:ss2 และคำนวณหา ช่วงเวลาเป็นวินาที ที่ห่างกันระหว่า time1 และ time2 โดยยังไม่ต้องสนใจว่า time2 สามารถข้ามไปอีกวันได้"
      ],
      "metadata": {
        "id": "Alh7JMwDa1k1"
      }
    },
    {
      "cell_type": "code",
      "source": [
        "def cal_dif_secs(timeinput):\n",
        "    timelist = timeinput.split('-')\n",
        "    time1 = timelist[0].split(':')\n",
        "    time2 = timelist[1].split(':')\n",
        "    time1_sec = int(time1[0])*3600 + int(time1[1])*60 + int(time1[2])\n",
        "    time2_sec = int(time2[0])*3600 + int(time2[1])*60 + int(time2[2])\n",
        "    dif_sec = time2_sec - time1_sec\n",
        "    return dif_sec"
      ],
      "metadata": {
        "id": "gzCHIEAPbF7f"
      },
      "execution_count": null,
      "outputs": []
    },
    {
      "cell_type": "code",
      "source": [
        "cal_dif_secs('12:30:15-13:41:07')"
      ],
      "metadata": {
        "colab": {
          "base_uri": "https://localhost:8080/"
        },
        "id": "tzi2FQSDbTAs",
        "outputId": "4bf2e5dc-a6e9-4419-d3f2-f992f3ac0098"
      },
      "execution_count": null,
      "outputs": [
        {
          "output_type": "execute_result",
          "data": {
            "text/plain": [
              "4252"
            ]
          },
          "metadata": {},
          "execution_count": 56
        }
      ]
    },
    {
      "cell_type": "markdown",
      "source": [
        "# Quiz3.5\n",
        "\n",
        "รับ input 2 ตัว โดยตั้งค่า default time1 เป็น 00:00:00"
      ],
      "metadata": {
        "id": "GMMe5F1zgNV5"
      }
    },
    {
      "cell_type": "markdown",
      "source": [
        "## HW2\n",
        "\n",
        "วนลูป หา ช่วงเวลาเป็นวินาที ที่ห่างกันระหว่า time1 และ time2 ต่อไปนี้\n",
        "\n",
        "\n",
        "1. 18:09:10 - 18:25:10\n",
        "2. 13:38:39 - 23:54:39\n",
        "3. 16:49:58 - 18:05:58\n",
        "4. 21:49:10 - 22:24:10\n",
        "5. 08:52:21 - 09:25:21\n",
        "6. 06:56:26 - 07:49:26\n",
        "7. 12:08:05 - 12:43:05\n",
        "8. 01:48:38 - 07:18:38\n",
        "9. 08:51:21 - 10:17:21\n",
        "10. 17:05:17 - 18:09:17"
      ],
      "metadata": {
        "id": "Y60TMz5ijb_S"
      }
    },
    {
      "cell_type": "markdown",
      "source": [
        "# inspect existing function\n",
        "\n",
        "* https://www.w3schools.com/python/ref_func_print.asp\n",
        "\n",
        "\n",
        "\n",
        "* https://scikit-learn.org/stable/modules/generated/sklearn.tree.DecisionTreeClassifier.html#sklearn.tree.DecisionTreeClassifier"
      ],
      "metadata": {
        "id": "FYs2Tid5lGAI"
      }
    },
    {
      "cell_type": "code",
      "source": [
        "print"
      ],
      "metadata": {
        "id": "eLbBlNnUk0XJ"
      },
      "execution_count": null,
      "outputs": []
    },
    {
      "cell_type": "markdown",
      "metadata": {
        "id": "UB5fTAr3bPqg"
      },
      "source": [
        "# LOOP การวนซ้ำ"
      ]
    },
    {
      "cell_type": "markdown",
      "metadata": {
        "id": "gpIwjDjg0gfJ"
      },
      "source": [
        "for เป็นคำที่ใช้บอก python ว่าเรากำลังเขียน loop\n",
        "โดย for จะวนดึงสมาชิกจาก ```listA``` มาทำ process ```do_something```"
      ]
    },
    {
      "cell_type": "markdown",
      "metadata": {
        "id": "6XS2wO4_bPqg"
      },
      "source": [
        "```python\n",
        "    for each_member in listA :\n",
        "        do_something\n",
        "```"
      ]
    },
    {
      "cell_type": "markdown",
      "metadata": {
        "id": "d7kQ2AEcbPqg"
      },
      "source": [
        "#### คำสั่ง for เป็นคำสั่งวนซ้ำที่ใช้ควบคุมการทำงานซ้ำๆ ในจำนวนรอบที่แน่นอน"
      ]
    },
    {
      "cell_type": "code",
      "metadata": {
        "colab": {
          "base_uri": "https://localhost:8080/"
        },
        "id": "NcT-s7TEbPqg",
        "outputId": "30140b6c-e285-4722-c237-cad6eddba8f6"
      },
      "source": [
        "for i in [1,2,3] :\n",
        "    o = i**2\n",
        "    print (f'this member = {i} after process = {o}')"
      ],
      "execution_count": null,
      "outputs": [
        {
          "output_type": "stream",
          "name": "stdout",
          "text": [
            "this member = 1 after process = 1\n",
            "this member = 2 after process = 4\n",
            "this member = 3 after process = 9\n"
          ]
        }
      ]
    },
    {
      "cell_type": "markdown",
      "metadata": {
        "id": "YbnFaiU2bPqg"
      },
      "source": [
        "#### ตัวอย่างการใช้คำสั่ง for ในการวนซ้ำค่าของ i เมื่อ i คือ 'Thanapong' และคำสั่ง print(f'{i} -> /') เพื่อกำหนดให้ผลลัพธ์แสดงสัญลักษณ์ -> /  จากนั้นเพิ่มคำสั่ง print(' ') อีกครั้งเพื่อให้ผลลัพธ์มีการเว้นวรรค¶"
      ]
    },
    {
      "cell_type": "code",
      "metadata": {
        "id": "kstoI_CEbPqh",
        "outputId": "42ebeb9d-eca9-48dc-81eb-56fe6740d085",
        "colab": {
          "base_uri": "https://localhost:8080/"
        }
      },
      "source": [
        "for i in 'Bunyanut':\n",
        "    print( i, end = '-> /\\n')"
      ],
      "execution_count": null,
      "outputs": [
        {
          "output_type": "stream",
          "name": "stdout",
          "text": [
            "B-> /\n",
            "u-> /\n",
            "n-> /\n",
            "y-> /\n",
            "a-> /\n",
            "n-> /\n",
            "u-> /\n",
            "t-> /\n"
          ]
        }
      ]
    },
    {
      "cell_type": "code",
      "metadata": {
        "id": "mQmh0Ip-V8qR",
        "outputId": "2243bdd0-7237-4214-97ba-6fefd3df415f",
        "colab": {
          "base_uri": "https://localhost:8080/"
        }
      },
      "source": [
        "for i in 'Bunyanut':\n",
        "    print(f'{i} -> / ' ,end = '') #สั่งให้ print แบบ ไม่เว้นบรรทัด"
      ],
      "execution_count": null,
      "outputs": [
        {
          "output_type": "stream",
          "name": "stdout",
          "text": [
            "B -> / u -> / n -> / y -> / a -> / n -> / u -> / t -> / "
          ]
        }
      ]
    },
    {
      "cell_type": "markdown",
      "metadata": {
        "id": "3_I0IHOqXMIr"
      },
      "source": [
        "## สร้าง list ตัวเลขแบบอัตโนมัติ  range()"
      ]
    },
    {
      "cell_type": "code",
      "metadata": {
        "id": "ensAuLXBW-0P",
        "outputId": "9d0e7983-9e95-484b-a639-a0490743690d",
        "colab": {
          "base_uri": "https://localhost:8080/"
        }
      },
      "source": [
        "range5_output = range(5)\n",
        "print(list(range5_output))"
      ],
      "execution_count": null,
      "outputs": [
        {
          "output_type": "stream",
          "name": "stdout",
          "text": [
            "[0, 1, 2, 3, 4]\n"
          ]
        }
      ]
    },
    {
      "cell_type": "code",
      "metadata": {
        "id": "r8JXggPKXrEx",
        "outputId": "7aec0cb9-0da9-4629-b1df-345359ec5d3f",
        "colab": {
          "base_uri": "https://localhost:8080/"
        }
      },
      "source": [
        "for i in range(100):\n",
        "    print('งง',end=' ')"
      ],
      "execution_count": null,
      "outputs": [
        {
          "output_type": "stream",
          "name": "stdout",
          "text": [
            "งง งง งง งง งง งง งง งง งง งง งง งง งง งง งง งง งง งง งง งง งง งง งง งง งง งง งง งง งง งง งง งง งง งง งง งง งง งง งง งง งง งง งง งง งง งง งง งง งง งง งง งง งง งง งง งง งง งง งง งง งง งง งง งง งง งง งง งง งง งง งง งง งง งง งง งง งง งง งง งง งง งง งง งง งง งง งง งง งง งง งง งง งง งง งง งง งง งง งง งง "
          ]
        }
      ]
    },
    {
      "cell_type": "code",
      "metadata": {
        "id": "RLvhNqw8YpKa",
        "outputId": "6cc3223d-ca5d-42f3-f2e2-f76ac6405b78",
        "colab": {
          "base_uri": "https://localhost:8080/"
        }
      },
      "source": [
        "list(range(1,11)) #เริ่มต้นเป็นวงทึบ จบเป็นวงกลมโปร่ง เหมือน list slicing"
      ],
      "execution_count": null,
      "outputs": [
        {
          "output_type": "execute_result",
          "data": {
            "text/plain": [
              "[1, 2, 3, 4, 5, 6, 7, 8, 9, 10]"
            ]
          },
          "metadata": {},
          "execution_count": 8
        }
      ]
    },
    {
      "cell_type": "code",
      "metadata": {
        "id": "MqXQ9NLGcW-r",
        "outputId": "83ea0ea7-2644-48e9-d4f9-90c2856e4107",
        "colab": {
          "base_uri": "https://localhost:8080/"
        }
      },
      "source": [
        "list(range(-3,20,4)) #ตัวแรกเป็นตัวเริ่มทึบ , ตัวที่ 2 ตัวจบ โปร่ง , ตัวที่ 3 สเต็ปข้าม"
      ],
      "execution_count": null,
      "outputs": [
        {
          "output_type": "execute_result",
          "data": {
            "text/plain": [
              "[-3, 1, 5, 9, 13, 17]"
            ]
          },
          "metadata": {},
          "execution_count": 10
        }
      ]
    },
    {
      "cell_type": "markdown",
      "source": [
        "# วนลูปโดยสนใจทั้งสมาชิกและลำดับ"
      ],
      "metadata": {
        "id": "7TxdGE4BAdpQ"
      }
    },
    {
      "cell_type": "code",
      "source": [
        "index = 0\n",
        "for i in 'Bunyanut':\n",
        "    print (f' สมาชิกคือ {i} เป็นลำดับ {index}')\n",
        "    index += 1"
      ],
      "metadata": {
        "colab": {
          "base_uri": "https://localhost:8080/"
        },
        "id": "JbiFOAOIAlyf",
        "outputId": "b135ac10-989b-4732-9e04-adc002a134a5"
      },
      "execution_count": null,
      "outputs": [
        {
          "output_type": "stream",
          "name": "stdout",
          "text": [
            " สมาชิกคือ B เป็นลำดับ 0\n",
            " สมาชิกคือ u เป็นลำดับ 1\n",
            " สมาชิกคือ n เป็นลำดับ 2\n",
            " สมาชิกคือ y เป็นลำดับ 3\n",
            " สมาชิกคือ a เป็นลำดับ 4\n",
            " สมาชิกคือ n เป็นลำดับ 5\n",
            " สมาชิกคือ u เป็นลำดับ 6\n",
            " สมาชิกคือ t เป็นลำดับ 7\n"
          ]
        }
      ]
    },
    {
      "cell_type": "code",
      "source": [
        "for index,i in enumerate('Bunyanut'):\n",
        "    print (f' สมาชิกคือ {i} เป็นลำดับ {index}')"
      ],
      "metadata": {
        "colab": {
          "base_uri": "https://localhost:8080/"
        },
        "id": "YKn5IxHxBHFC",
        "outputId": "35a6fc75-951f-4887-fe57-f270a1e9761a"
      },
      "execution_count": null,
      "outputs": [
        {
          "output_type": "stream",
          "name": "stdout",
          "text": [
            " สมาชิกคือ B เป็นลำดับ 0\n",
            " สมาชิกคือ u เป็นลำดับ 1\n",
            " สมาชิกคือ n เป็นลำดับ 2\n",
            " สมาชิกคือ y เป็นลำดับ 3\n",
            " สมาชิกคือ a เป็นลำดับ 4\n",
            " สมาชิกคือ n เป็นลำดับ 5\n",
            " สมาชิกคือ u เป็นลำดับ 6\n",
            " สมาชิกคือ t เป็นลำดับ 7\n"
          ]
        }
      ]
    },
    {
      "cell_type": "markdown",
      "metadata": {
        "id": "vPcR4tJebPqi"
      },
      "source": [
        "### loop in loop\n",
        "#### สามารถใช้ for loop ซ้อนกันสองรอบได้¶"
      ]
    },
    {
      "cell_type": "code",
      "metadata": {
        "id": "TKRcpd5DbPqi",
        "outputId": "370cc13f-057c-4fc0-f02a-7964de1f6abb",
        "colab": {
          "base_uri": "https://localhost:8080/"
        }
      },
      "source": [
        "for name1 in  range(2,5): #(2, 3, 4)\n",
        "    print(f'now name1 = {name1}')\n",
        "    for name2 in  range(1,13):\n",
        "        print('  ', name1,' x ',name2,' = ',name1*name2)\n",
        "    print('the inner loop is end')"
      ],
      "execution_count": null,
      "outputs": [
        {
          "output_type": "stream",
          "name": "stdout",
          "text": [
            "now name1 = 2\n",
            "   2  x  1  =  2\n",
            "   2  x  2  =  4\n",
            "   2  x  3  =  6\n",
            "   2  x  4  =  8\n",
            "   2  x  5  =  10\n",
            "   2  x  6  =  12\n",
            "   2  x  7  =  14\n",
            "   2  x  8  =  16\n",
            "   2  x  9  =  18\n",
            "   2  x  10  =  20\n",
            "   2  x  11  =  22\n",
            "   2  x  12  =  24\n",
            "the inner loop is end\n",
            "now name1 = 3\n",
            "   3  x  1  =  3\n",
            "   3  x  2  =  6\n",
            "   3  x  3  =  9\n",
            "   3  x  4  =  12\n",
            "   3  x  5  =  15\n",
            "   3  x  6  =  18\n",
            "   3  x  7  =  21\n",
            "   3  x  8  =  24\n",
            "   3  x  9  =  27\n",
            "   3  x  10  =  30\n",
            "   3  x  11  =  33\n",
            "   3  x  12  =  36\n",
            "the inner loop is end\n",
            "now name1 = 4\n",
            "   4  x  1  =  4\n",
            "   4  x  2  =  8\n",
            "   4  x  3  =  12\n",
            "   4  x  4  =  16\n",
            "   4  x  5  =  20\n",
            "   4  x  6  =  24\n",
            "   4  x  7  =  28\n",
            "   4  x  8  =  32\n",
            "   4  x  9  =  36\n",
            "   4  x  10  =  40\n",
            "   4  x  11  =  44\n",
            "   4  x  12  =  48\n",
            "the inner loop is end\n"
          ]
        }
      ]
    },
    {
      "cell_type": "markdown",
      "source": [
        "#Quiz 7\n",
        "วนลูป แสดงค่า ตัวเลขออกมาเป็นสามเหลี่ยม ตามตัวอย่างนี้\n",
        "Ex:\n",
        "- 1\n",
        "- 2 4\n",
        "- 3 6 9\n",
        "- 4 8 12 16\n",
        "- 5 10 15 20 25"
      ],
      "metadata": {
        "id": "4b8SGPQeCmIL"
      }
    },
    {
      "cell_type": "code",
      "source": [
        "for i in range(1,6):\n",
        "    for j in range(1,i+1):\n",
        "        print(i*j,end=' ')\n",
        "    print()"
      ],
      "metadata": {
        "colab": {
          "base_uri": "https://localhost:8080/"
        },
        "id": "DX6Cb5KICbwb",
        "outputId": "c8112893-0d80-423d-ab12-e94044035886"
      },
      "execution_count": null,
      "outputs": [
        {
          "output_type": "stream",
          "name": "stdout",
          "text": [
            "1 \n",
            "2 4 \n",
            "3 6 9 \n",
            "4 8 12 16 \n",
            "5 10 15 20 25 \n"
          ]
        }
      ]
    },
    {
      "cell_type": "markdown",
      "metadata": {
        "id": "7-FAZit8bPqi"
      },
      "source": [
        "### loop in function\n",
        "#### การวนลูปในฟังก์ชั่น¶"
      ]
    },
    {
      "cell_type": "code",
      "metadata": {
        "id": "S0r5yhbDbPqi"
      },
      "source": [
        "def print_feelings(I,friendS,feeling = 'คิดถึง'):\n",
        "    for friend in friendS:\n",
        "        print(f'{I} {feeling} {friend}')"
      ],
      "execution_count": null,
      "outputs": []
    },
    {
      "cell_type": "code",
      "metadata": {
        "id": "_oVKj4SRfGS6"
      },
      "source": [
        "list_friends = ['คุณหนูเบียร์','พ่อใหญ่เฟิร์ส','อ้ายสีหนุ่ม','จ่าหนึ่ง','บักโส']"
      ],
      "execution_count": null,
      "outputs": []
    },
    {
      "cell_type": "code",
      "metadata": {
        "id": "RepVZqu6bPqi",
        "outputId": "dab8a1e0-4f5d-4c60-a5cd-bb8d0e3c873d",
        "colab": {
          "base_uri": "https://localhost:8080/"
        }
      },
      "source": [
        "print_feelings('แก้ม',list_friends)"
      ],
      "execution_count": null,
      "outputs": [
        {
          "output_type": "stream",
          "name": "stdout",
          "text": [
            "แก้ม คิดถึง คุณหนูเบียร์\n",
            "แก้ม คิดถึง พ่อใหญ่เฟิร์ส\n",
            "แก้ม คิดถึง อ้ายสีหนุ่ม\n",
            "แก้ม คิดถึง จ่าหนึ่ง\n",
            "แก้ม คิดถึง บักโส\n"
          ]
        }
      ]
    },
    {
      "cell_type": "code",
      "metadata": {
        "id": "P20pDnVaf2vK",
        "outputId": "0c594d82-1a20-4416-c2cc-7b2a1501e12f",
        "colab": {
          "base_uri": "https://localhost:8080/"
        }
      },
      "source": [
        "print_feelings('แก้ม',list_friends,feeling='ซัง')"
      ],
      "execution_count": null,
      "outputs": [
        {
          "output_type": "stream",
          "name": "stdout",
          "text": [
            "แก้ม ซัง คุณหนูเบียร์\n",
            "แก้ม ซัง พ่อใหญ่เฟิร์ส\n",
            "แก้ม ซัง อ้ายสีหนุ่ม\n",
            "แก้ม ซัง จ่าหนึ่ง\n",
            "แก้ม ซัง บักโส\n"
          ]
        }
      ]
    },
    {
      "cell_type": "code",
      "metadata": {
        "id": "SzHamL8JhKG4",
        "outputId": "61228b07-841d-4160-eca7-9b47e21ea9aa",
        "colab": {
          "base_uri": "https://localhost:8080/"
        }
      },
      "source": [
        "print_feelings('เจมส์',list_friends,'รัก')"
      ],
      "execution_count": null,
      "outputs": [
        {
          "output_type": "stream",
          "name": "stdout",
          "text": [
            "เจมส์ รัก คุณหนูเบียร์\n",
            "เจมส์ รัก พ่อใหญ่เฟิร์ส\n",
            "เจมส์ รัก อ้ายสีหนุ่ม\n",
            "เจมส์ รัก จ่าหนึ่ง\n",
            "เจมส์ รัก บักโส\n"
          ]
        }
      ]
    },
    {
      "cell_type": "code",
      "source": [
        "print_feelings('แก้ม','พ่อใหญ่เฟิร์ส')"
      ],
      "metadata": {
        "colab": {
          "base_uri": "https://localhost:8080/"
        },
        "id": "cMIhNbtzWNjq",
        "outputId": "97f8c264-6d8f-48c9-c283-00fea5798ec4"
      },
      "execution_count": null,
      "outputs": [
        {
          "output_type": "stream",
          "name": "stdout",
          "text": [
            "แก้ม คิดถึง พ\n",
            "แก้ม คิดถึง ่\n",
            "แก้ม คิดถึง อ\n",
            "แก้ม คิดถึง ใ\n",
            "แก้ม คิดถึง ห\n",
            "แก้ม คิดถึง ญ\n",
            "แก้ม คิดถึง ่\n",
            "แก้ม คิดถึง เ\n",
            "แก้ม คิดถึง ฟ\n",
            "แก้ม คิดถึง ิ\n",
            "แก้ม คิดถึง ร\n",
            "แก้ม คิดถึง ์\n",
            "แก้ม คิดถึง ส\n"
          ]
        }
      ]
    },
    {
      "cell_type": "markdown",
      "source": [
        "จบ 24 มิย 67"
      ],
      "metadata": {
        "id": "GJAB4hnvnAX8"
      }
    },
    {
      "cell_type": "markdown",
      "source": [
        "## Dictionary (Data Structure)\n",
        "\n",
        "โครงสร้างข้อมูลที่จัดเก็บข้อมูลโดยการอ้างอิงโดย text\n",
        "\n",
        "วงเล็บ ```{``` ```}``` Curly Brackets"
      ],
      "metadata": {
        "id": "VreW55vmVRcb"
      }
    },
    {
      "cell_type": "code",
      "source": [
        "Ex_dict_A = {'memberA':[1,2,3],'memberB':8,'memberC':'abc'}"
      ],
      "metadata": {
        "id": "i-oH98ilV1RV"
      },
      "execution_count": null,
      "outputs": []
    },
    {
      "cell_type": "code",
      "source": [
        "Ex_dict_A"
      ],
      "metadata": {
        "colab": {
          "base_uri": "https://localhost:8080/"
        },
        "id": "kIwdnWuqWr58",
        "outputId": "694d94ad-5ac6-47a8-e6d6-01f62d578d9b"
      },
      "execution_count": null,
      "outputs": [
        {
          "output_type": "execute_result",
          "data": {
            "text/plain": [
              "{'memberA': [1, 2, 3], 'memberB': 8, 'memberC': 'abc'}"
            ]
          },
          "metadata": {},
          "execution_count": 2
        }
      ]
    },
    {
      "cell_type": "code",
      "source": [
        "Ex_dict_A['memberA']"
      ],
      "metadata": {
        "colab": {
          "base_uri": "https://localhost:8080/"
        },
        "id": "J4yy6oaXW4he",
        "outputId": "153013bf-f9bd-4cd9-a182-bf13744d02c7"
      },
      "execution_count": null,
      "outputs": [
        {
          "output_type": "execute_result",
          "data": {
            "text/plain": [
              "[1, 2, 3]"
            ]
          },
          "metadata": {},
          "execution_count": 5
        }
      ]
    },
    {
      "cell_type": "code",
      "source": [
        "Ex_dict_A['memberA'][1]"
      ],
      "metadata": {
        "colab": {
          "base_uri": "https://localhost:8080/"
        },
        "id": "cZjtUbdnXZK-",
        "outputId": "0eaa0d49-1a2a-41d6-bb62-7c3252df977f"
      },
      "execution_count": null,
      "outputs": [
        {
          "output_type": "execute_result",
          "data": {
            "text/plain": [
              "2"
            ]
          },
          "metadata": {},
          "execution_count": 6
        }
      ]
    },
    {
      "cell_type": "markdown",
      "metadata": {
        "id": "vwK7RmRJbPqj"
      },
      "source": [
        "### looping in dict\n",
        "#### ทำการวนลูปในค่า dict โดยที่เรากำหนดตัว key และvalueขึ้นมา ได้ดังนี้\n"
      ]
    },
    {
      "cell_type": "code",
      "metadata": {
        "id": "HI0F-4HobPqj",
        "outputId": "b10c55a6-0367-492d-c821-4a23bced332e",
        "colab": {
          "base_uri": "https://localhost:8080/"
        }
      },
      "source": [
        "name_grade = {'พันทิพา' : 'B','ศุภนิตา' : 'C','ปนัดดา' : 'A','ทรงกลด' : 'F'}\n",
        "name_grade"
      ],
      "execution_count": null,
      "outputs": [
        {
          "output_type": "execute_result",
          "data": {
            "text/plain": [
              "{'พันทิพา': 'B', 'ศุภนิตา': 'C', 'ปนัดดา': 'A', 'ทรงกลด': 'F'}"
            ]
          },
          "metadata": {},
          "execution_count": 27
        }
      ]
    },
    {
      "cell_type": "code",
      "metadata": {
        "id": "jWf8aBmpbPqj",
        "outputId": "d19b353a-86f8-4dcc-e1d5-a5a0d233c332",
        "colab": {
          "base_uri": "https://localhost:8080/",
          "height": 56
        }
      },
      "source": [
        "name_grade['ปนัดดา']"
      ],
      "execution_count": null,
      "outputs": [
        {
          "output_type": "execute_result",
          "data": {
            "text/plain": [
              "'A'"
            ],
            "application/vnd.google.colaboratory.intrinsic+json": {
              "type": "string"
            }
          },
          "metadata": {},
          "execution_count": 8
        }
      ]
    },
    {
      "cell_type": "code",
      "source": [
        "name_grade.keys()"
      ],
      "metadata": {
        "colab": {
          "base_uri": "https://localhost:8080/"
        },
        "id": "0tXZc6kgYPgm",
        "outputId": "13096d92-02b7-4de1-9845-3552562916b2"
      },
      "execution_count": null,
      "outputs": [
        {
          "output_type": "execute_result",
          "data": {
            "text/plain": [
              "dict_keys(['พันทิพา', 'ศุภนิตา', 'ปนัดดา', 'ทรงกลด'])"
            ]
          },
          "metadata": {},
          "execution_count": 9
        }
      ]
    },
    {
      "cell_type": "code",
      "source": [
        "name_grade.values()"
      ],
      "metadata": {
        "colab": {
          "base_uri": "https://localhost:8080/"
        },
        "id": "zEqstk33YRxp",
        "outputId": "e01dc8af-865a-4ba3-809c-370371d8409e"
      },
      "execution_count": null,
      "outputs": [
        {
          "output_type": "execute_result",
          "data": {
            "text/plain": [
              "dict_values(['B', 'C', 'A', 'F'])"
            ]
          },
          "metadata": {},
          "execution_count": 10
        }
      ]
    },
    {
      "cell_type": "code",
      "metadata": {
        "scrolled": true,
        "id": "eDqhoebhbPqj",
        "outputId": "f24ce075-005e-4c55-8cdb-962fb5c3eef7",
        "colab": {
          "base_uri": "https://localhost:8080/"
        }
      },
      "source": [
        "for i in name_grade.keys():\n",
        "    print(i)"
      ],
      "execution_count": null,
      "outputs": [
        {
          "output_type": "stream",
          "name": "stdout",
          "text": [
            "พันทิพา\n",
            "ศุภนิตา\n",
            "ปนัดดา\n",
            "ทรงกลด\n"
          ]
        }
      ]
    },
    {
      "cell_type": "code",
      "metadata": {
        "id": "Imvq4faObPqj",
        "outputId": "5df94306-5cd4-44d7-d90a-c268847fbf7d",
        "colab": {
          "base_uri": "https://localhost:8080/"
        }
      },
      "source": [
        "for i in name_grade.keys():\n",
        "    print(f'{i} ได้เกรด {name_grade[i]}')"
      ],
      "execution_count": null,
      "outputs": [
        {
          "output_type": "stream",
          "name": "stdout",
          "text": [
            "พันทิพา ได้เกรด B\n",
            "ศุภนิตา ได้เกรด C\n",
            "ปนัดดา ได้เกรด A\n",
            "ทรงกลด ได้เกรด F\n"
          ]
        }
      ]
    },
    {
      "cell_type": "markdown",
      "source": [
        "## HW2 Example"
      ],
      "metadata": {
        "id": "CrnK1_WPaYv7"
      }
    },
    {
      "cell_type": "code",
      "source": [
        "time_list =  [\n",
        "    [\"18:09:10\", \"18:25:10\"],\n",
        "    [\"13:38:39\", \"23:54:39\"],\n",
        "    [\"16:49:58\", \"18:05:58\"],\n",
        "    [\"21:49:10\", \"22:24:10\"],\n",
        "    [\"08:52:21\", \"09:25:21\"],\n",
        "    [\"06:56:26\", \"07:49:26\"],\n",
        "    [\"12:08:05\", \"12:43:05\"],\n",
        "    [\"01:48:38\", \"07:18:38\"],\n",
        "    [\"08:51:21\", \"10:17:21\"],\n",
        "    [\"17:05:17\", \"18:09:17\"]]\n",
        "\n",
        "def time_to_second(time1,time2):\n",
        "    time1_list = time1.split(':')\n",
        "    time2_list = time2.split(':')\n",
        "    time1_sec = int(time1_list[0])*3600 + int(time1_list[1])*60 + int(time1_list[2])\n",
        "    time2_sec = int(time2_list[0])*3600 + int(time2_list[1])*60 + int(time2_list[2])\n",
        "    return(time2_sec - time1_sec)\n",
        "\n",
        "for time1,time2 in time_list:\n",
        "  diff_seconds = time_to_second(time1,time2)\n",
        "  print(f\"Time difference between {time1} - {time2} is {diff_seconds} seconds\")"
      ],
      "metadata": {
        "colab": {
          "base_uri": "https://localhost:8080/"
        },
        "id": "BqYhLFc5aYa2",
        "outputId": "825e1a7c-f359-44cc-9e02-160670dc983c"
      },
      "execution_count": null,
      "outputs": [
        {
          "output_type": "stream",
          "name": "stdout",
          "text": [
            "Time difference between 18:09:10 - 18:25:10 is 960 seconds\n",
            "Time difference between 13:38:39 - 23:54:39 is 36960 seconds\n",
            "Time difference between 16:49:58 - 18:05:58 is 4560 seconds\n",
            "Time difference between 21:49:10 - 22:24:10 is 2100 seconds\n",
            "Time difference between 08:52:21 - 09:25:21 is 1980 seconds\n",
            "Time difference between 06:56:26 - 07:49:26 is 3180 seconds\n",
            "Time difference between 12:08:05 - 12:43:05 is 2100 seconds\n",
            "Time difference between 01:48:38 - 07:18:38 is 19800 seconds\n",
            "Time difference between 08:51:21 - 10:17:21 is 5160 seconds\n",
            "Time difference between 17:05:17 - 18:09:17 is 3840 seconds\n"
          ]
        }
      ]
    },
    {
      "cell_type": "code",
      "source": [
        "time1 = \"18:09:10\"\n",
        "time2 = \"00:25:10\"\n",
        "diff_seconds = time_to_second(time1,time2)\n",
        "print(f\"Time difference between {time1} - {time2} is {diff_seconds} seconds\")"
      ],
      "metadata": {
        "colab": {
          "base_uri": "https://localhost:8080/"
        },
        "id": "lbz-CNPlbGYq",
        "outputId": "31befb8b-40ae-47b0-876d-a94e7ecfe760"
      },
      "execution_count": null,
      "outputs": [
        {
          "output_type": "stream",
          "name": "stdout",
          "text": [
            "Time difference between 18:09:10 - 00:25:10 is -63840 seconds\n"
          ]
        }
      ]
    },
    {
      "cell_type": "markdown",
      "source": [
        "# HW 3\n",
        "## **เพิ่ม loop เข้าไปใน Quiz 6 โดยวนลูป คำนวณ วินาที ในโจทย์ ต่อไปนี้**\n",
        "```\n",
        "[\n",
        "    (\"10:00:00\", \"Monday\", \"11:30:00\", 5400),  # Same day, later time\n",
        "    (\"11:30:00\", \"Monday\", \"10:00:00\", \"Monday\", 5400),  # Same day, earlier time\n",
        "    (\"23:00:00\", \"Sunday\", \"01:00:00\", , 7200),  # Cross midnight\n",
        "    (\"01:00:00\", \"Monday\", \"23:00:00\", \"Sunday\", 7200),  # Cross midnight (reverse)\n",
        "    (\"10:00:00\", \"Tuesday\", \"11:30:00\", \"Thursday\", 178200), # Multiple days difference\n",
        "    (\"11:30:00\", \"Thursday\", \"10:00:00\", \"Tuesday\", 178200), # Multiple days difference (reverse)\n",
        "    (\"12:00:00\", \"Monday\", \"12:00:00\", \"Monday\", 0),      # Same time, same day\n",
        "    (\"12:00:00\", \"Monday\", \"12:00:00\", \"Tuesday\", 24*3600), # Same time, next day\n",
        "    (\"00:00:00\", \"Monday\", \"23:59:59\", , 24*3600 - 1), # Almost 24 hours later\n",
        "    (\"23:59:59\", \"Sunday\", \"00:00:00\", \"Monday\", 1),       # One second difference across midnight\n",
        "]\n",
        "```\n",
        "\n",
        "* HW2 : คำนวณช่วงเวลาเป็นวินาทีของช่วงเวลาต่อไปนี้โดยใช้คำสั่ง split() ช่วย\n",
        "\n",
        "12:30:15, wednesday - 13:41:07 Thursday\n",
        "\n",
        "12:53:15, Monday - 00:59:25, Tuesday\n",
        "\n",
        "16:06:09, Sunday - 11:11:11, Tuesday\n",
        "\n",
        "* Quiz 6 :เขียนฟังก์ชั่น ของ HW2 มีการใช้ค่า default ของ onput โดยถ้าวันที่กรอกเป็นวันเดียวกันให้ไม่ต้องกรอกเลยหรือกรอกวันแค่ 1 วัน"
      ],
      "metadata": {
        "id": "Uo7_dB9wS1Fz"
      }
    },
    {
      "cell_type": "code",
      "source": [
        "# prompt: เขียนฟังก์ชั่น ของคำนวณช่วงเวลาเป็นวินาทีของช่วงเวลามีการใช้ค่า default ของ onput โดยถ้าวันที่กรอกเป็นวันเดียวกันให้ไม่ต้องกรอกเลยหรือกรอกวันแค่ 1 วัน โดยไม่ต้องมีการimtorp function เพิ่ม loop เข้าไปใน  โดยวนลูป คำนวณ วินาที ในโจทย์ ต่อไปนี้\n",
        "# [\n",
        "#     (\"10:00:00\", \"Monday\", \"11:30:00\", 5400),  # Same day, later time\n",
        "#     (\"11:30:00\", \"Monday\", \"10:00:00\", \"Monday\", 5400),  # Same day, earlier time\n",
        "#     (\"23:00:00\", \"Sunday\", \"01:00:00\", , 7200),  # Cross midnight\n",
        "#     (\"01:00:00\", \"Monday\", \"23:00:00\", \"Sunday\", 7200),  # Cross midnight (reverse)\n",
        "#     (\"10:00:00\", \"Tuesday\", \"11:30:00\", \"Thursday\", 178200), # Multiple days difference\n",
        "#     (\"11:30:00\", \"Thursday\", \"10:00:00\", \"Tuesday\", 178200), # Multiple days difference (reverse)\n",
        "#     (\"12:00:00\", \"Monday\", \"12:00:00\", \"Monday\", 0),      # Same time, same day\n",
        "#     (\"12:00:00\", \"Monday\", \"12:00:00\", \"Tuesday\", 24*3600), # Same time, next day\n",
        "#     (\"00:00:00\", \"Monday\", \"23:59:59\", , 24*3600 - 1), # Almost 24 hours later\n",
        "#     (\"23:59:59\", \"Sunday\", \"00:00:00\", \"Monday\", 1),       # One second difference across midnight\n",
        "# ]\n",
        "\n",
        "def time_diff_in_seconds(start_time, end_time, start_day=None, end_day=None):\n",
        "    # กำหนดชื่อวันในสัปดาห์และจำนวนวินาทีต่อวัน\n",
        "    weekdays = ['Monday', 'Tuesday', 'Wednesday', 'Thursday', 'Friday', 'Saturday', 'Sunday']\n",
        "    seconds_per_day = 86400\n",
        "\n",
        "    # แยกเวลาชั่วโมง นาที วินาที\n",
        "    def parse_time(time_str):\n",
        "        h, m, s = map(int, time_str.strip().split(':'))\n",
        "        return h * 3600 + m * 60 + s\n",
        "\n",
        "    # หาวัน index\n",
        "    def get_day_index(day_name):\n",
        "        # If day_name is already an index, return it directly.\n",
        "        if isinstance(day_name, int):\n",
        "            return day_name % 7\n",
        "        return weekdays.index(day_name.capitalize())\n",
        "\n",
        "    # กรณีไม่ระบุวัน ให้ถือว่าเป็นวันเดียวกัน\n",
        "    if start_day is None:\n",
        "        start_day = weekdays[0] # Default to Monday if not provided\n",
        "    if end_day is None:\n",
        "        end_day = start_day\n",
        "\n",
        "    start_seconds = parse_time(start_time)\n",
        "    end_seconds = parse_time(end_time)\n",
        "    start_day_index = get_day_index(start_day)\n",
        "    end_day_index = get_day_index(end_day)\n",
        "\n",
        "    # คำนวณจำนวนวันห่าง\n",
        "    day_diff = (end_day_index - start_day_index) % 7\n",
        "\n",
        "    # คำนวณวินาทีรวม\n",
        "    total_seconds = day_diff * seconds_per_day + (end_seconds - start_seconds)\n",
        "\n",
        "    # ปรับให้เป็นค่าบวกถ้าเวลา end_time น้อยกว่า start_time และวันเดียวกัน\n",
        "    if total_seconds < 0:\n",
        "      total_seconds += 7 * seconds_per_day # Add a week's worth of seconds\n",
        "\n",
        "    return total_seconds\n",
        "\n",
        "# Example usage based on the provided test cases\n",
        "time_periods = [\n",
        "    (\"10:00:00\", \"Monday\", \"11:30:00\", \"Monday\", 5400),  # Same day, later time\n",
        "    (\"11:30:00\", \"Monday\", \"10:00:00\", \"Monday\", 5400),  # Same day, earlier time (should wrap around)\n",
        "    (\"23:00:00\", \"Sunday\", \"01:00:00\", \"Monday\", 7200),  # Cross midnight\n",
        "    (\"01:00:00\", \"Monday\", \"23:00:00\", \"Sunday\", 7200),  # Cross midnight (reverse - should wrap around)\n",
        "    (\"10:00:00\", \"Tuesday\", \"11:30:00\", \"Thursday\", 178200), # Multiple days difference\n",
        "    (\"11:30:00\", \"Thursday\", \"10:00:00\", \"Tuesday\", 178200), # Multiple days difference (reverse - should wrap around)\n",
        "    (\"12:00:00\", \"Monday\", \"12:00:00\", \"Monday\", 0),      # Same time, same day\n",
        "    (\"12:00:00\", \"Monday\", \"12:00:00\", \"Tuesday\", 24*3600), # Same time, next day\n",
        "    (\"00:00:00\", \"Monday\", \"23:59:59\", \"Monday\", 24*3600 - 1), # Almost 24 hours later (same day specified)\n",
        "    (\"23:59:59\", \"Sunday\", \"00:00:00\", \"Monday\", 1),       # One second difference across midnight\n",
        "    (\"10:00:00\", \"Monday\", \"11:30:00\", None, 5400),  # Same day, end_day is None\n",
        "    (\"11:30:00\", None, \"10:00:00\", \"Monday\", 5400),  # Same day, start_day is None (should use default Monday)\n",
        "    (\"12:30:15\", \"Wednesday\", \"13:41:07\", \"Thursday\", None), # Test case from HW2 (Expected value is not given here, but function should calculate)\n",
        "    (\"12:53:15\", \"Monday\", \"00:59:25\", \"Tuesday\", None), # Test case from HW2\n",
        "    (\"16:06:09\", \"Sunday\", \"11:11:11\", \"Tuesday\", None), # Test case from HW2\n",
        "\n",
        "]\n",
        "\n",
        "for start_time, start_day, end_time, end_day, expected_seconds in time_periods:\n",
        "    calculated_seconds = time_diff_in_seconds(start_time, end_time, start_day, end_day)\n",
        "    print(f\"{start_time}, {start_day}, - {end_time}, {end_day} \\n -> คำนวณได้: {calculated_seconds:,} วินาที\")\n",
        "    if expected_seconds is not None:\n",
        "        print(f\"  เวลาที่คาดหวัง: {expected_seconds:,} วินาที \\n ตรงกับค่าคาดหวัง?: {calculated_seconds == expected_seconds}\\n\")"
      ],
      "metadata": {
        "colab": {
          "base_uri": "https://localhost:8080/"
        },
        "id": "nnDHR8nyaf4U",
        "outputId": "f9d37db0-f38c-4fd0-a41a-d7c4c25ff2b1"
      },
      "execution_count": null,
      "outputs": [
        {
          "output_type": "stream",
          "name": "stdout",
          "text": [
            "10:00:00, Monday, - 11:30:00, Monday \n",
            " -> คำนวณได้: 5,400 วินาที\n",
            "  เวลาที่คาดหวัง: 5,400 วินาที \n",
            " ตรงกับค่าคาดหวัง?: True\n",
            "\n",
            "11:30:00, Monday, - 10:00:00, Monday \n",
            " -> คำนวณได้: 599,400 วินาที\n",
            "  เวลาที่คาดหวัง: 5,400 วินาที \n",
            " ตรงกับค่าคาดหวัง?: False\n",
            "\n",
            "23:00:00, Sunday, - 01:00:00, Monday \n",
            " -> คำนวณได้: 7,200 วินาที\n",
            "  เวลาที่คาดหวัง: 7,200 วินาที \n",
            " ตรงกับค่าคาดหวัง?: True\n",
            "\n",
            "01:00:00, Monday, - 23:00:00, Sunday \n",
            " -> คำนวณได้: 597,600 วินาที\n",
            "  เวลาที่คาดหวัง: 7,200 วินาที \n",
            " ตรงกับค่าคาดหวัง?: False\n",
            "\n",
            "10:00:00, Tuesday, - 11:30:00, Thursday \n",
            " -> คำนวณได้: 178,200 วินาที\n",
            "  เวลาที่คาดหวัง: 178,200 วินาที \n",
            " ตรงกับค่าคาดหวัง?: True\n",
            "\n",
            "11:30:00, Thursday, - 10:00:00, Tuesday \n",
            " -> คำนวณได้: 426,600 วินาที\n",
            "  เวลาที่คาดหวัง: 178,200 วินาที \n",
            " ตรงกับค่าคาดหวัง?: False\n",
            "\n",
            "12:00:00, Monday, - 12:00:00, Monday \n",
            " -> คำนวณได้: 0 วินาที\n",
            "  เวลาที่คาดหวัง: 0 วินาที \n",
            " ตรงกับค่าคาดหวัง?: True\n",
            "\n",
            "12:00:00, Monday, - 12:00:00, Tuesday \n",
            " -> คำนวณได้: 86,400 วินาที\n",
            "  เวลาที่คาดหวัง: 86,400 วินาที \n",
            " ตรงกับค่าคาดหวัง?: True\n",
            "\n",
            "00:00:00, Monday, - 23:59:59, Monday \n",
            " -> คำนวณได้: 86,399 วินาที\n",
            "  เวลาที่คาดหวัง: 86,399 วินาที \n",
            " ตรงกับค่าคาดหวัง?: True\n",
            "\n",
            "23:59:59, Sunday, - 00:00:00, Monday \n",
            " -> คำนวณได้: 1 วินาที\n",
            "  เวลาที่คาดหวัง: 1 วินาที \n",
            " ตรงกับค่าคาดหวัง?: True\n",
            "\n",
            "10:00:00, Monday, - 11:30:00, None \n",
            " -> คำนวณได้: 5,400 วินาที\n",
            "  เวลาที่คาดหวัง: 5,400 วินาที \n",
            " ตรงกับค่าคาดหวัง?: True\n",
            "\n",
            "11:30:00, None, - 10:00:00, Monday \n",
            " -> คำนวณได้: 599,400 วินาที\n",
            "  เวลาที่คาดหวัง: 5,400 วินาที \n",
            " ตรงกับค่าคาดหวัง?: False\n",
            "\n",
            "12:30:15, Wednesday, - 13:41:07, Thursday \n",
            " -> คำนวณได้: 90,652 วินาที\n",
            "12:53:15, Monday, - 00:59:25, Tuesday \n",
            " -> คำนวณได้: 43,570 วินาที\n",
            "16:06:09, Sunday, - 11:11:11, Tuesday \n",
            " -> คำนวณได้: 155,102 วินาที\n"
          ]
        }
      ]
    },
    {
      "cell_type": "markdown",
      "metadata": {
        "id": "pLDGW8IobPqk"
      },
      "source": [
        "# Conditional statemet คือ ประโยคเงื่อนไข"
      ]
    },
    {
      "cell_type": "markdown",
      "source": [
        "ชนิดตัวแปรที่เกี่ยวข้อ Boolean (True,False)"
      ],
      "metadata": {
        "id": "TvK12jMwcVp8"
      }
    },
    {
      "cell_type": "code",
      "source": [
        "condition_1 = True\n",
        "condition_2 = False"
      ],
      "metadata": {
        "id": "JWxlKa-icUk6"
      },
      "execution_count": null,
      "outputs": []
    },
    {
      "cell_type": "markdown",
      "metadata": {
        "id": "8_-zCLkrbPqk"
      },
      "source": [
        "### การวนลูปโดยมีเงื่อนไขต่างๆมาเกี่ยวข้อง โดยมี pattern ดังนี้\n"
      ]
    },
    {
      "cell_type": "markdown",
      "metadata": {
        "id": "ZQuWb-bybPqk"
      },
      "source": [
        "```Python\n",
        "if condition1 :\n",
        "    do something\n",
        "elif condition2 :  #elif คือ else if\n",
        "    do another thing\n",
        "else:\n",
        "    do ...\n",
        "```\n",
        "    "
      ]
    },
    {
      "cell_type": "markdown",
      "metadata": {
        "id": "kUPdCRG7bPqk"
      },
      "source": [
        "## ==, !=,>=,<=,<,> Operator ของตัวเลข"
      ]
    },
    {
      "cell_type": "code",
      "source": [
        "def time_to_second(time1):\n",
        "    time1_list = time1.split(':')\n",
        "    time1_sec = int(time1_list[0])*3600 + int(time1_list[1])*60 + int(time1_list[2])\n",
        "    return time1_sec"
      ],
      "metadata": {
        "id": "9NIOIupSd_Zn"
      },
      "execution_count": 1,
      "outputs": []
    },
    {
      "cell_type": "code",
      "source": [
        "time_list =  [\n",
        "    [\"18:09:10\", \"18:25:10\"],\n",
        "    [\"13:38:39\", \"23:54:39\"],[\"16:49:58\", \"18:05:58\"],\n",
        "    [\"21:49:10\", \"22:24:10\"],[\"08:52:21\", \"09:25:21\"],\n",
        "    [\"06:56:26\", \"07:49:26\"],[\"12:08:05\", \"12:43:05\"],\n",
        "    [\"01:48:38\", \"07:18:38\"],[\"08:51:21\", \"10:17:21\"],\n",
        "    [\"17:05:17\", \"18:09:17\"],[\"18:51:21\", \"00:17:21\"],\n",
        "    [\"17:05:17\", \"11:09:17\"],]"
      ],
      "metadata": {
        "id": "CYcYQJ45d8Wx"
      },
      "execution_count": 2,
      "outputs": []
    },
    {
      "cell_type": "code",
      "source": [
        "for time1,time2 in time_list:\n",
        "\n",
        "    if time_to_second(time1) < time_to_second(time2): #ถ้า time1 น้อยกว่า time2\n",
        "        diff_seconds = time_to_second(time2) - time_to_second(time1)\n",
        "    else: #ถ้า time1 ไม่น้อยกว่า time2\n",
        "        diff_seconds = (time_to_second(time2)+(24*60*60)) - time_to_second(time1)\n",
        "\n",
        "    print(f\"Time difference between {time1} - {time2} is {diff_seconds} seconds\")"
      ],
      "metadata": {
        "colab": {
          "base_uri": "https://localhost:8080/"
        },
        "id": "sv-1il2_dmvv",
        "outputId": "a43f5962-23d1-4da5-804f-12a0a2f59bc7"
      },
      "execution_count": 3,
      "outputs": [
        {
          "output_type": "stream",
          "name": "stdout",
          "text": [
            "Time difference between 18:09:10 - 18:25:10 is 960 seconds\n",
            "Time difference between 13:38:39 - 23:54:39 is 36960 seconds\n",
            "Time difference between 16:49:58 - 18:05:58 is 4560 seconds\n",
            "Time difference between 21:49:10 - 22:24:10 is 2100 seconds\n",
            "Time difference between 08:52:21 - 09:25:21 is 1980 seconds\n",
            "Time difference between 06:56:26 - 07:49:26 is 3180 seconds\n",
            "Time difference between 12:08:05 - 12:43:05 is 2100 seconds\n",
            "Time difference between 01:48:38 - 07:18:38 is 19800 seconds\n",
            "Time difference between 08:51:21 - 10:17:21 is 5160 seconds\n",
            "Time difference between 17:05:17 - 18:09:17 is 3840 seconds\n",
            "Time difference between 18:51:21 - 00:17:21 is 19560 seconds\n",
            "Time difference between 17:05:17 - 11:09:17 is 65040 seconds\n"
          ]
        }
      ]
    },
    {
      "cell_type": "markdown",
      "source": [
        "# HW3 เพิ่ม ฟังก์ชั่นแปลงวินาทีกลับมาเป็น ชั่วโมง นาที วินาที โดยไม่ใช่ฟังก์ชั่นช่วยเหลืออื่นๆของ python (~~import~~) ถ้าส่วนของ ชั่วโมง นาที วินาที เป็นศูนย์ ไม่ต้องแสดง"
      ],
      "metadata": {
        "id": "JMvgwO7tgxSZ"
      }
    },
    {
      "cell_type": "markdown",
      "metadata": {
        "id": "sSySEFHNbPql"
      },
      "source": [
        "# HW 4\n",
        "#### เขียน function ตัดเกรด โดยที่ input เป็นคะแนน(0-100) , output เป็นเกรด (F-A)\n",
        "#### วนลูปตัดเกรด input = [1,50,65,90,101,-5,49]"
      ]
    },
    {
      "cell_type": "markdown",
      "metadata": {
        "id": "c3TDhZHzbPqm"
      },
      "source": [
        "##### กำหนด\n",
        "      ถ้าคะแนนอยู่ระหว่างมากกว่าหรือเท่ากับ  0  แต่น้อยกว่า 50 จะได้เกรด F\n",
        "      ถ้าคะแนนอยู่ระหว่างมากกว่าหรือเท่ากับ 50 แต่น้อยกว่า 55 จะได้เกรด D\n",
        "      ถ้าคะแนนอยู่ระหว่างมากกว่าหรือเท่ากับ 55 แต่น้อยกว่า 60 จะได้เกรด D+\n",
        "      ถ้าคะแนนอยู่ระหว่างมากกว่าหรือเท่ากับ 60 แต่น้อยกว่า 65 จะได้เกรด C\n",
        "      ถ้าคะแนนอยู่ระหว่างมากกว่าหรือเท่ากับ 65 แต่น้อยกว่า 70 จะได้เกรด C+\n",
        "      ถ้าคะแนนอยู่ระหว่างมากกว่าหรือเท่ากับ 70 แต่น้อยกว่า 75 จะได้เกรด B\n",
        "      ถ้าคะแนนอยู่ระหว่างมากกว่าหรือเท่ากับ 75 แต่น้อยกว่า 80 จะได้เกรด B+\n",
        "      ถ้าคะแนนอยู่ระหว่างมากกว่าหรือเท่ากับ 80  จะได้เกรด A\n",
        "      แต่ว่าค่าคะแนนจะต้องไม่ต่ำกว่า 0 และมากกว่า 100 ไม่งั้นจะเกิด error"
      ]
    },
    {
      "cell_type": "markdown",
      "source": [
        "## ```&```, ```|```, ```in```, ```is```   :  Operator อื่นๆ\n",
        "\n",
        "| คือ or , หรือ"
      ],
      "metadata": {
        "id": "HSMQXdmmipMp"
      }
    },
    {
      "cell_type": "code",
      "source": [
        "a = 2 < 3\n",
        "print(a)"
      ],
      "metadata": {
        "id": "4BgqVA1sR2uk",
        "outputId": "e75fbbdb-b5a7-421a-94af-40e903a110a9",
        "colab": {
          "base_uri": "https://localhost:8080/"
        }
      },
      "execution_count": 4,
      "outputs": [
        {
          "output_type": "stream",
          "name": "stdout",
          "text": [
            "True\n"
          ]
        }
      ]
    },
    {
      "cell_type": "code",
      "source": [
        "b = 7 in range(7)\n",
        "print(b)"
      ],
      "metadata": {
        "id": "xb3GOZP2R959",
        "outputId": "c9853e95-f24f-41d1-f821-65b5114440ee",
        "colab": {
          "base_uri": "https://localhost:8080/"
        }
      },
      "execution_count": 6,
      "outputs": [
        {
          "output_type": "stream",
          "name": "stdout",
          "text": [
            "False\n"
          ]
        }
      ]
    },
    {
      "cell_type": "code",
      "source": [
        "a & b"
      ],
      "metadata": {
        "id": "XMX535oxSe1I",
        "outputId": "1c2cff48-3fcd-4b30-af9a-9f0d3758304a",
        "colab": {
          "base_uri": "https://localhost:8080/"
        }
      },
      "execution_count": 7,
      "outputs": [
        {
          "output_type": "execute_result",
          "data": {
            "text/plain": [
              "False"
            ]
          },
          "metadata": {},
          "execution_count": 7
        }
      ]
    },
    {
      "cell_type": "code",
      "source": [
        "a | b"
      ],
      "metadata": {
        "id": "wwxXLdu_ShiO",
        "outputId": "070a9a38-0db6-46b0-c9d9-ea362dc8f280",
        "colab": {
          "base_uri": "https://localhost:8080/"
        }
      },
      "execution_count": 8,
      "outputs": [
        {
          "output_type": "execute_result",
          "data": {
            "text/plain": [
              "True"
            ]
          },
          "metadata": {},
          "execution_count": 8
        }
      ]
    },
    {
      "cell_type": "code",
      "source": [
        "if 2 < 3 & 7 in range(10):\n",
        "    print('yes')"
      ],
      "metadata": {
        "id": "gMWIDEI2Sl2d",
        "outputId": "1374115b-8e2b-4e47-a6b6-1a8ffec892d3",
        "colab": {
          "base_uri": "https://localhost:8080/"
        }
      },
      "execution_count": 9,
      "outputs": [
        {
          "output_type": "stream",
          "name": "stdout",
          "text": [
            "yes\n"
          ]
        }
      ]
    },
    {
      "cell_type": "code",
      "source": [
        "if (1>0) & (0>-1):\n",
        "    print(True & True)"
      ],
      "metadata": {
        "id": "ES5d1z0ti306",
        "outputId": "5d5c4515-c5b0-4886-87b6-89e20aa7504e",
        "colab": {
          "base_uri": "https://localhost:8080/"
        }
      },
      "execution_count": 10,
      "outputs": [
        {
          "output_type": "stream",
          "name": "stdout",
          "text": [
            "True\n"
          ]
        }
      ]
    },
    {
      "cell_type": "code",
      "source": [
        "if 'T' in 'Thanapong':\n",
        "    print('T in Thanapong')"
      ],
      "metadata": {
        "id": "3COnyOTKipAc",
        "outputId": "ba14b685-466f-4222-cf9b-156608ccd872",
        "colab": {
          "base_uri": "https://localhost:8080/"
        }
      },
      "execution_count": 11,
      "outputs": [
        {
          "output_type": "stream",
          "name": "stdout",
          "text": [
            "T in Thanapong\n"
          ]
        }
      ]
    },
    {
      "cell_type": "code",
      "source": [
        "def return_nothing(x):\n",
        "    x = x+1"
      ],
      "metadata": {
        "id": "01N3TOG9k3ti"
      },
      "execution_count": null,
      "outputs": []
    },
    {
      "cell_type": "code",
      "source": [
        "a = return_nothing(5)"
      ],
      "metadata": {
        "id": "drWbuBwNldOL"
      },
      "execution_count": null,
      "outputs": []
    },
    {
      "cell_type": "code",
      "source": [
        "if a is None:\n",
        "    print('x is null')"
      ],
      "metadata": {
        "id": "pOj0pkEEkbuW",
        "outputId": "29d5bf18-d242-40f3-a542-26c39aa2fcca",
        "colab": {
          "base_uri": "https://localhost:8080/"
        }
      },
      "execution_count": null,
      "outputs": [
        {
          "output_type": "stream",
          "name": "stdout",
          "text": [
            "x is null\n"
          ]
        }
      ]
    },
    {
      "cell_type": "markdown",
      "source": [
        "## break คือการออกจาก Loop"
      ],
      "metadata": {
        "id": "wp8PGqWLTiSQ"
      }
    },
    {
      "cell_type": "code",
      "source": [
        "# ไม่มี Break\n",
        "\n",
        "numbers = [0 , 2 , 8 , 24 , 5 ,60 , 70 , 81 , 9 , 10]\n",
        "#สร้างฟังก์ชันตรวจสอบว่าใน list มีเลขคี่ หรือไม่\n",
        "\n",
        "def check_odd_in_list(input_list):\n",
        "    for i in input_list:\n",
        "        if i % 2 != 0:\n",
        "            print(f'มีเลขคี่ คือ {i}')\n",
        "\n",
        "    print('ไม่มีเลขคี่')\n",
        "\n",
        "check_odd_in_list(numbers)"
      ],
      "metadata": {
        "id": "PIv7ADmMWdA2",
        "outputId": "14a3393e-f12a-4a0f-803d-26f12d5f7420",
        "colab": {
          "base_uri": "https://localhost:8080/"
        }
      },
      "execution_count": 18,
      "outputs": [
        {
          "output_type": "stream",
          "name": "stdout",
          "text": [
            "มีเลขคี่ คือ 5\n",
            "มีเลขคี่ คือ 81\n",
            "มีเลขคี่ คือ 9\n",
            "ไม่มีเลขคี่\n"
          ]
        }
      ]
    },
    {
      "cell_type": "code",
      "source": [
        "# มี Break\n",
        "numbers = [0 , 2 , 8 , 24 , 5 ,60 , 70 , 81 , 9 , 10]\n",
        "#สร้างฟังก์ชันตรวจสอบว่าใน list มีเลขคี่ หรือไม่\n",
        "\n",
        "def check_odd_in_list(input_list):\n",
        "    for i in input_list:\n",
        "        if i % 2 != 0:\n",
        "            print(f'มีเลขคี่ คือ {i}')\n",
        "            break\n",
        "    print('ไม่มีเลขคี่')\n",
        "\n",
        "check_odd_in_list(numbers)"
      ],
      "metadata": {
        "id": "y1ET-H8ylyxP",
        "outputId": "49826c02-51a2-4f93-91a4-efc39673e978",
        "colab": {
          "base_uri": "https://localhost:8080/"
        }
      },
      "execution_count": 16,
      "outputs": [
        {
          "output_type": "stream",
          "name": "stdout",
          "text": [
            "มีเลขคี่ คือ 5\n",
            "ไม่มีเลขคี่\n"
          ]
        }
      ]
    },
    {
      "cell_type": "code",
      "source": [
        "# return แล้วหลุดออกจากฟังก์ชัน\n",
        "\n",
        "numbers = [0 , 2 , 8 , 24 , 5 ,60 , 70 , 81 , 9 , 10]\n",
        "#สร้างฟังก์ชันตรวจสอบว่าใน list มีเลขคี่ หรือไม่\n",
        "\n",
        "def check_odd_in_list(input_list):\n",
        "    for i in input_list:\n",
        "        if i % 2 != 0:\n",
        "            print(f'มีเลขคี่ คือ {i}')\n",
        "            return\n",
        "    print('ไม่มีเลขคี่')\n",
        "    return input_list\n",
        "\n",
        "check_odd_in_list(numbers)\n",
        "check_odd_in_list([0 , 2 , 8 , 24])"
      ],
      "metadata": {
        "id": "UjX5p5kXWpPP",
        "outputId": "6f1f4770-e66a-4efc-9f69-2f19449f67ca",
        "colab": {
          "base_uri": "https://localhost:8080/"
        }
      },
      "execution_count": 25,
      "outputs": [
        {
          "output_type": "stream",
          "name": "stdout",
          "text": [
            "มีเลขคี่ คือ 5\n",
            "ไม่มีเลขคี่\n"
          ]
        },
        {
          "output_type": "execute_result",
          "data": {
            "text/plain": [
              "[0, 2, 8, 24]"
            ]
          },
          "metadata": {},
          "execution_count": 25
        }
      ]
    },
    {
      "cell_type": "markdown",
      "metadata": {
        "id": "Bg3vVE3GbPqn"
      },
      "source": [
        "# Finish"
      ]
    }
  ]
}